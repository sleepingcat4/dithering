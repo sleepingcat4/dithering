{
 "cells": [
  {
   "cell_type": "code",
   "execution_count": null,
   "metadata": {},
   "outputs": [],
   "source": [
    "import numpy as np\n",
    "from PIL import Image\n",
    "import matplotlib.pyplot as plt\n",
    "import numba"
   ]
  },
  {
   "cell_type": "markdown",
   "metadata": {},
   "source": [
    "Working with Binary Images"
   ]
  },
  {
   "cell_type": "code",
   "execution_count": null,
   "metadata": {},
   "outputs": [],
   "source": [
    "image = Image.open(\"\")\n",
    "data = np.array(image).astype(np.float32) / 255."
   ]
  },
  {
   "cell_type": "code",
   "execution_count": null,
   "metadata": {},
   "outputs": [],
   "source": [
    "path = \"\"\n",
    "image = Image.open(path)\n",
    "data = np.array(image).astype(np.float32) / 255.\n",
    "if len(data.shape) == 2:\n",
    "    data = data[:, :, np.newaxis]"
   ]
  },
  {
   "cell_type": "code",
   "execution_count": null,
   "metadata": {},
   "outputs": [],
   "source": [
    "plt.show(data[:,:,0], cmap='Greys_r')"
   ]
  },
  {
   "cell_type": "markdown",
   "metadata": {},
   "source": [
    "Traditional approach: rounding the images between 0 and 1. Increases contrast of the image and results in bad outcome. Almost can't recognise actual image."
   ]
  },
  {
   "cell_type": "code",
   "execution_count": null,
   "metadata": {},
   "outputs": [],
   "source": [
    "data_rounded = np.round(data)\n",
    "plt.imshow(data_rounded[:, :, 0], cmap='Greys_r')"
   ]
  },
  {
   "cell_type": "markdown",
   "metadata": {},
   "source": [
    "We are going to apply ditering algorithm to fix traditional approach by rounding surrounding pixels and reducing average error rate. Making a perceiveness of actual image (original image)."
   ]
  },
  {
   "cell_type": "code",
   "execution_count": null,
   "metadata": {},
   "outputs": [],
   "source": [
    "@numba.jit(\"f4[:, :, :]f4[:, :, :]\", nopython=True, nogil=True)\n",
    "def floyd_steinberg(image):\n",
    "    Lx, Ly, Lc = image.shape\n",
    "    for j in range(Ly):\n",
    "        for i in range(Lx):\n",
    "            for c in range(Lc):\n",
    "                rounded = round(image[i, j, c])\n",
    "                err = image[i, j, c] - rounded\n",
    "                image[i, j, c] = rounded\n",
    "                if i < Lx-1: image[i+1, j, c] += (7/16)*err\n",
    "                if j<Ly-1L\n",
    "                    image[i, j+1, c] += (5/16)*err\n",
    "                    if i > 0: image[i-1, j+1, c] += (1/16)*err\n",
    "                    if i<Lx-1: image[i+1, j+1, c] += (3/16)*err\n",
    "    return image\n",
    "\n"
   ]
  },
  {
   "cell_type": "code",
   "execution_count": null,
   "metadata": {},
   "outputs": [],
   "source": [
    "data_fs = floyd_steinberg(data.copy())\n",
    "plt.imshow(data_fs[:,:,0], cmap='Greys_r')"
   ]
  },
  {
   "cell_type": "markdown",
   "metadata": {},
   "source": [
    "Now, we will write the original algorithm used by Mac to show images in early era"
   ]
  },
  {
   "cell_type": "code",
   "execution_count": null,
   "metadata": {},
   "outputs": [],
   "source": [
    "@numba.jit(\"f4[:,:,:](f4[:,:,:])\", nopython=True, nogil=True)\n",
    "def atkinson(image):\n",
    "    frac = 8\n",
    "    Lx, Ly, Lc = image.shape\n",
    "    for j in range(Ly):\n",
    "        for i in range(Lx):\n",
    "            for c in range(Lc):\n",
    "                rounded = round(image[i,j,c])\n",
    "                err = image[i,j,c] - rounded\n",
    "                image[i,j,c] = rounded\n",
    "                if i<Lx-1: image[i+1,j,c] += err / frac\n",
    "                if i<Lx-2: image[i+2,j,c] += err /frac\n",
    "                if j<Ly-1:\n",
    "                    image[i,j+1,c] += err / frac\n",
    "                    if i>0: image[i-1,j+1,c] += err / frac\n",
    "                    if i<Lx-1: image[i+1,j+1,c] += err / frac\n",
    "                if j<Ly-2: image[i,j+2,c] += err / frac      \n",
    "    return image"
   ]
  }
 ],
 "metadata": {
  "kernelspec": {
   "display_name": "Python 3",
   "language": "python",
   "name": "python3"
  },
  "language_info": {
   "name": "python",
   "version": "3.8.10"
  }
 },
 "nbformat": 4,
 "nbformat_minor": 2
}
